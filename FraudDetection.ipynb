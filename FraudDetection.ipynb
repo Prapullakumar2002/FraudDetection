{
 "cells": [
  {
   "cell_type": "markdown",
   "id": "de2afd07-c665-4a80-bbd6-f430a87e5a87",
   "metadata": {},
   "source": [
    "## Step 1: Import Necessary Libraries"
   ]
  },
  {
   "cell_type": "code",
   "execution_count": 1,
   "id": "761899ec-a521-424e-abfb-baa02d0394b3",
   "metadata": {},
   "outputs": [],
   "source": [
    "import pandas as pd\n",
    "import numpy as np\n",
    "from sklearn.model_selection import train_test_split\n",
    "from sklearn.preprocessing import StandardScaler\n",
    "from sklearn.ensemble import RandomForestClassifier\n",
    "from sklearn.metrics import classification_report, accuracy_score\n",
    "from sklearn.pipeline import Pipeline\n",
    "import time"
   ]
  },
  {
   "cell_type": "markdown",
   "id": "09735375-0f79-476b-b32f-ab7b115607e3",
   "metadata": {},
   "source": [
    "## Step 2: Load and Explore the Dataset"
   ]
  },
  {
   "cell_type": "code",
   "execution_count": 6,
   "id": "fa53d6bb-419e-4f36-ae58-3d80d5ab5467",
   "metadata": {},
   "outputs": [
    {
     "name": "stdout",
     "output_type": "stream",
     "text": [
      "   step      type    amount     nameOrig  oldbalanceOrg  newbalanceOrig  \\\n",
      "0     1   PAYMENT   9839.64  C1231006815       170136.0       160296.36   \n",
      "1     1   PAYMENT   1864.28  C1666544295        21249.0        19384.72   \n",
      "2     1  TRANSFER    181.00  C1305486145          181.0            0.00   \n",
      "3     1  CASH_OUT    181.00   C840083671          181.0            0.00   \n",
      "4     1   PAYMENT  11668.14  C2048537720        41554.0        29885.86   \n",
      "\n",
      "      nameDest  oldbalanceDest  newbalanceDest  isFraud  isFlaggedFraud  \n",
      "0  M1979787155             0.0             0.0        0               0  \n",
      "1  M2044282225             0.0             0.0        0               0  \n",
      "2   C553264065             0.0             0.0        1               0  \n",
      "3    C38997010         21182.0             0.0        1               0  \n",
      "4  M1230701703             0.0             0.0        0               0  \n",
      "step              0\n",
      "type              0\n",
      "amount            0\n",
      "nameOrig          0\n",
      "oldbalanceOrg     0\n",
      "newbalanceOrig    0\n",
      "nameDest          0\n",
      "oldbalanceDest    0\n",
      "newbalanceDest    0\n",
      "isFraud           0\n",
      "isFlaggedFraud    0\n",
      "dtype: int64\n"
     ]
    }
   ],
   "source": [
    "# Load the dataset\n",
    "data = pd.read_csv(r'C:\\Users\\prapu\\OneDrive\\Desktop\\transactionsSmall.csv')\n",
    "\n",
    "\n",
    "# Display the first few rows to understand the structure\n",
    "print(data.head())\n",
    "\n",
    "# Check for missing values\n",
    "print(data.isnull().sum())"
   ]
  },
  {
   "cell_type": "markdown",
   "id": "f231a904-b270-4f82-8a7e-6b2f097121f4",
   "metadata": {},
   "source": [
    "## Step 3: Preprocess the Data\n",
    "1. Encoding categorical variables: Convert categorical variables (type) to numerical values.\n",
    "2. Scaling: Use StandardScaler to scale numerical columns for better performance in machine learning algorithms."
   ]
  },
  {
   "cell_type": "code",
   "execution_count": 7,
   "id": "74528171-65e8-4f08-89ea-cc2e24148b79",
   "metadata": {
    "scrolled": true
   },
   "outputs": [
    {
     "name": "stdout",
     "output_type": "stream",
     "text": [
      "Column names: Index(['step', 'type', 'amount', 'nameOrig', 'oldbalanceOrg', 'newbalanceOrig',\n",
      "       'nameDest', 'oldbalanceDest', 'newbalanceDest', 'isFraud',\n",
      "       'isFlaggedFraud'],\n",
      "      dtype='object')\n"
     ]
    }
   ],
   "source": [
    "# Print column names to confirm 'type' is present\n",
    "print(\"Column names:\", data.columns)\n",
    "\n",
    "# Ensure the 'type' column exists before encoding\n",
    "if 'type' in data.columns:\n",
    "    # Encode categorical 'type' feature\n",
    "    data['type'] = data['type'].astype('category').cat.codes\n",
    "else:\n",
    "    print(\"Error: 'type' column not found in the dataset.\")\n",
    "    # Optionally, you can stop the code here or handle the absence of this column as needed.\n",
    "    exit()\n",
    "\n",
    "# Define features and target variable\n",
    "X = data.drop(['isFraud', 'nameOrig', 'nameDest', 'isFlaggedFraud'], axis=1, errors='ignore')  # Drop irrelevant columns\n",
    "y = data['isFraud']\n",
    "\n",
    "# Split the data into training and testing sets\n",
    "X_train, X_test, y_train, y_test = train_test_split(X, y, test_size=0.2, random_state=42)\n",
    "\n",
    "# Standardize the features\n",
    "scaler = StandardScaler()\n",
    "X_train = scaler.fit_transform(X_train)\n",
    "X_test = scaler.transform(X_test)\n"
   ]
  },
  {
   "cell_type": "markdown",
   "id": "14ddda4f-cde0-44ac-83de-e19317d8db6a",
   "metadata": {},
   "source": [
    "## Step 4: Train the Model\n",
    "Using a Random Forest classifier (effective for tabular data and often used in fraud detection):"
   ]
  },
  {
   "cell_type": "code",
   "execution_count": 8,
   "id": "2286573a-a5c3-4a49-8661-71c978187143",
   "metadata": {},
   "outputs": [
    {
     "name": "stdout",
     "output_type": "stream",
     "text": [
      "started\n",
      "Accuracy: 0.9937106918238994\n",
      "\n",
      "Classification Report:\n",
      "               precision    recall  f1-score   support\n",
      "\n",
      "           0       0.99      1.00      1.00       409\n",
      "           1       1.00      0.96      0.98        68\n",
      "\n",
      "    accuracy                           0.99       477\n",
      "   macro avg       1.00      0.98      0.99       477\n",
      "weighted avg       0.99      0.99      0.99       477\n",
      "\n",
      "done\n"
     ]
    }
   ],
   "source": [
    "# Define and train the Random Forest model\n",
    "\n",
    "print(\"started\")\n",
    "model = RandomForestClassifier(n_estimators=100, random_state=42)\n",
    "model.fit(X_train, y_train)\n",
    "\n",
    "# Predict on test data\n",
    "y_pred = model.predict(X_test)\n",
    "\n",
    "# Evaluate model performance\n",
    "print(\"Accuracy:\", accuracy_score(y_test, y_pred))\n",
    "print(\"\\nClassification Report:\\n\", classification_report(y_test, y_pred))\n",
    "print(\"done\")"
   ]
  },
  {
   "cell_type": "markdown",
   "id": "d1865fee-9cdd-4d5a-b228-d2d0eaee006c",
   "metadata": {},
   "source": [
    "## Step 5: Real-Time Fraud Detection Simulation\n",
    "\n",
    "With the trained model, we can simulate real-time fraud detection by running new transactions (one by one or in small batches) through the model. Here’s how to do it:"
   ]
  },
  {
   "cell_type": "code",
   "execution_count": 9,
   "id": "24b4d5e4-5fec-491e-83cc-01fcb859fc73",
   "metadata": {},
   "outputs": [
    {
     "name": "stdout",
     "output_type": "stream",
     "text": [
      "✅ Transaction ID 468 is Safe.\n",
      "🚨 Fraud Detected in Transaction ID 33\n",
      "✅ Transaction ID 131 is Safe.\n",
      "✅ Transaction ID 72 is Safe.\n",
      "✅ Transaction ID 78 is Safe.\n",
      "✅ Transaction ID 113 is Safe.\n",
      "🚨 Fraud Detected in Transaction ID 274\n",
      "✅ Transaction ID 185 is Safe.\n",
      "✅ Transaction ID 261 is Safe.\n",
      "✅ Transaction ID 9 is Safe.\n",
      "✅ Transaction ID 321 is Safe.\n",
      "✅ Transaction ID 318 is Safe.\n",
      "🚨 Fraud Detected in Transaction ID 281\n",
      "✅ Transaction ID 462 is Safe.\n",
      "✅ Transaction ID 82 is Safe.\n",
      "✅ Transaction ID 439 is Safe.\n",
      "✅ Transaction ID 30 is Safe.\n",
      "✅ Transaction ID 101 is Safe.\n",
      "✅ Transaction ID 411 is Safe.\n",
      "✅ Transaction ID 180 is Safe.\n",
      "✅ Transaction ID 355 is Safe.\n",
      "✅ Transaction ID 249 is Safe.\n",
      "🚨 Fraud Detected in Transaction ID 172\n",
      "✅ Transaction ID 375 is Safe.\n",
      "🚨 Fraud Detected in Transaction ID 0\n",
      "✅ Transaction ID 346 is Safe.\n",
      "✅ Transaction ID 11 is Safe.\n",
      "✅ Transaction ID 93 is Safe.\n",
      "✅ Transaction ID 447 is Safe.\n",
      "✅ Transaction ID 195 is Safe.\n",
      "✅ Transaction ID 265 is Safe.\n",
      "✅ Transaction ID 182 is Safe.\n",
      "✅ Transaction ID 420 is Safe.\n",
      "✅ Transaction ID 209 is Safe.\n",
      "✅ Transaction ID 55 is Safe.\n",
      "✅ Transaction ID 227 is Safe.\n",
      "✅ Transaction ID 18 is Safe.\n",
      "✅ Transaction ID 431 is Safe.\n",
      "✅ Transaction ID 154 is Safe.\n",
      "✅ Transaction ID 75 is Safe.\n",
      "✅ Transaction ID 39 is Safe.\n",
      "✅ Transaction ID 415 is Safe.\n",
      "🚨 Fraud Detected in Transaction ID 175\n",
      "✅ Transaction ID 471 is Safe.\n",
      "✅ Transaction ID 79 is Safe.\n",
      "✅ Transaction ID 401 is Safe.\n",
      "✅ Transaction ID 392 is Safe.\n",
      "✅ Transaction ID 90 is Safe.\n",
      "✅ Transaction ID 336 is Safe.\n",
      "🚨 Fraud Detected in Transaction ID 245\n",
      "✅ Transaction ID 302 is Safe.\n",
      "✅ Transaction ID 76 is Safe.\n",
      "🚨 Fraud Detected in Transaction ID 320\n",
      "✅ Transaction ID 193 is Safe.\n",
      "✅ Transaction ID 203 is Safe.\n",
      "✅ Transaction ID 173 is Safe.\n",
      "✅ Transaction ID 73 is Safe.\n",
      "✅ Transaction ID 427 is Safe.\n",
      "✅ Transaction ID 467 is Safe.\n",
      "✅ Transaction ID 225 is Safe.\n",
      "✅ Transaction ID 137 is Safe.\n",
      "✅ Transaction ID 77 is Safe.\n",
      "✅ Transaction ID 63 is Safe.\n",
      "✅ Transaction ID 278 is Safe.\n",
      "✅ Transaction ID 153 is Safe.\n",
      "✅ Transaction ID 307 is Safe.\n",
      "✅ Transaction ID 70 is Safe.\n",
      "✅ Transaction ID 374 is Safe.\n",
      "✅ Transaction ID 340 is Safe.\n",
      "✅ Transaction ID 403 is Safe.\n",
      "✅ Transaction ID 298 is Safe.\n",
      "✅ Transaction ID 472 is Safe.\n",
      "✅ Transaction ID 460 is Safe.\n",
      "✅ Transaction ID 331 is Safe.\n",
      "✅ Transaction ID 418 is Safe.\n",
      "✅ Transaction ID 15 is Safe.\n",
      "✅ Transaction ID 456 is Safe.\n",
      "✅ Transaction ID 369 is Safe.\n",
      "✅ Transaction ID 19 is Safe.\n",
      "✅ Transaction ID 455 is Safe.\n",
      "✅ Transaction ID 317 is Safe.\n",
      "✅ Transaction ID 56 is Safe.\n",
      "✅ Transaction ID 210 is Safe.\n",
      "🚨 Fraud Detected in Transaction ID 255\n",
      "✅ Transaction ID 316 is Safe.\n",
      "✅ Transaction ID 104 is Safe.\n",
      "✅ Transaction ID 157 is Safe.\n",
      "🚨 Fraud Detected in Transaction ID 405\n",
      "✅ Transaction ID 25 is Safe.\n",
      "✅ Transaction ID 383 is Safe.\n",
      "✅ Transaction ID 323 is Safe.\n",
      "🚨 Fraud Detected in Transaction ID 140\n",
      "🚨 Fraud Detected in Transaction ID 42\n",
      "✅ Transaction ID 248 is Safe.\n",
      "✅ Transaction ID 384 is Safe.\n",
      "🚨 Fraud Detected in Transaction ID 290\n",
      "✅ Transaction ID 208 is Safe.\n",
      "✅ Transaction ID 204 is Safe.\n",
      "✅ Transaction ID 429 is Safe.\n",
      "✅ Transaction ID 310 is Safe.\n"
     ]
    }
   ],
   "source": [
    "# Ensure 'X_test' has been created and is a scaled NumPy array from the StandardScaler\n",
    "# Convert `X_test` back to a DataFrame with original column names for compatibility\n",
    "X_test_df = pd.DataFrame(X_test, columns=X.columns)\n",
    "\n",
    "# Now proceed with random sampling and real-time fraud detection\n",
    "sampled_transactions = X_test_df.sample(n=100, random_state=42)\n",
    "\n",
    "def simulate_real_time_detection(new_data):\n",
    "    \"\"\"Simulate real-time fraud detection on new transactions.\"\"\"\n",
    "    for index, transaction in new_data.iterrows():\n",
    "        # Preprocess the single transaction (already scaled here)\n",
    "        transaction_processed = np.array([transaction.values])  # Reshape for model compatibility\n",
    "\n",
    "        # Predict if it's fraud\n",
    "        prediction = model.predict(transaction_processed)\n",
    "        \n",
    "        if prediction[0] == 1:\n",
    "            print(f\"🚨 Fraud Detected in Transaction ID {index}\")\n",
    "        else:\n",
    "            print(f\"✅ Transaction ID {index} is Safe.\")\n",
    "        \n",
    "        # Pause to simulate real-time detection\n",
    "        time.sleep(1)\n",
    "\n",
    "# Simulate with 100 random transactions\n",
    "simulate_real_time_detection(sampled_transactions)"
   ]
  },
  {
   "cell_type": "code",
   "execution_count": null,
   "id": "3b44f9dd-bff3-4a50-a7eb-aec7653806dd",
   "metadata": {},
   "outputs": [],
   "source": []
  }
 ],
 "metadata": {
  "kernelspec": {
   "display_name": "Python 3 (ipykernel)",
   "language": "python",
   "name": "python3"
  },
  "language_info": {
   "codemirror_mode": {
    "name": "ipython",
    "version": 3
   },
   "file_extension": ".py",
   "mimetype": "text/x-python",
   "name": "python",
   "nbconvert_exporter": "python",
   "pygments_lexer": "ipython3",
   "version": "3.12.7"
  }
 },
 "nbformat": 4,
 "nbformat_minor": 5
}
